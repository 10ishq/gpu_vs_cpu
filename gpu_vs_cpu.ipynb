{
 "metadata": {
  "language_info": {
   "codemirror_mode": {
    "name": "ipython",
    "version": 3
   },
   "file_extension": ".py",
   "mimetype": "text/x-python",
   "name": "python",
   "nbconvert_exporter": "python",
   "pygments_lexer": "ipython3",
   "version": "3.9.1"
  },
  "orig_nbformat": 2,
  "kernelspec": {
   "name": "python391jvsc74a57bd0ac59ebe37160ed0dfa835113d9b8498d9f09ceb179beaac4002f036b9467c963",
   "display_name": "Python 3.9.1 64-bit"
  },
  "metadata": {
   "interpreter": {
    "hash": "ac59ebe37160ed0dfa835113d9b8498d9f09ceb179beaac4002f036b9467c963"
   }
  }
 },
 "nbformat": 4,
 "nbformat_minor": 2,
 "cells": [
  {
   "cell_type": "code",
   "execution_count": 24,
   "metadata": {},
   "outputs": [
    {
     "output_type": "stream",
     "name": "stdout",
     "text": [
      "Hello world\n"
     ]
    }
   ],
   "source": [
    "print(\"Hello world\")\n",
    "import tensorflow as tf \n",
    "from tensorflow import keras\n",
    "import matplotlib.pyplot as plt\n",
    "import numpy as no"
   ]
  },
  {
   "cell_type": "code",
   "execution_count": 25,
   "metadata": {},
   "outputs": [
    {
     "output_type": "execute_result",
     "data": {
      "text/plain": [
       "True"
      ]
     },
     "metadata": {},
     "execution_count": 25
    }
   ],
   "source": [
    "\n",
    "tf.config.experimental.list_physical_devices()\n",
    "tf.test.is_built_with_cuda()"
   ]
  },
  {
   "cell_type": "code",
   "execution_count": 26,
   "metadata": {},
   "outputs": [],
   "source": [
    "(x_train, y_train), (x_test,y_test) = tf.keras.datasets.cifar10.load_data()"
   ]
  },
  {
   "cell_type": "code",
   "execution_count": 27,
   "metadata": {},
   "outputs": [
    {
     "output_type": "execute_result",
     "data": {
      "text/plain": [
       "(50000, 32, 32, 3)"
      ]
     },
     "metadata": {},
     "execution_count": 27
    }
   ],
   "source": [
    "x_train.shape"
   ]
  },
  {
   "cell_type": "code",
   "execution_count": 28,
   "metadata": {},
   "outputs": [
    {
     "output_type": "execute_result",
     "data": {
      "text/plain": [
       "array([[6],\n",
       "       [9],\n",
       "       [9],\n",
       "       [4],\n",
       "       [1]], dtype=uint8)"
      ]
     },
     "metadata": {},
     "execution_count": 28
    }
   ],
   "source": [
    "y_train[0:5]"
   ]
  },
  {
   "cell_type": "code",
   "execution_count": 29,
   "metadata": {},
   "outputs": [],
   "source": [
    "def plot_sample(index):\n",
    "    plt.figure(figsize=(10,1))\n",
    "    plt.imshow(x_train[index])\n",
    "    "
   ]
  },
  {
   "cell_type": "code",
   "execution_count": 30,
   "metadata": {},
   "outputs": [
    {
     "output_type": "display_data",
     "data": {
      "text/plain": "<Figure size 720x72 with 1 Axes>",
      "image/svg+xml": "<?xml version=\"1.0\" encoding=\"utf-8\" standalone=\"no\"?>\r\n<!DOCTYPE svg PUBLIC \"-//W3C//DTD SVG 1.1//EN\"\r\n  \"http://www.w3.org/Graphics/SVG/1.1/DTD/svg11.dtd\">\r\n<!-- Created with matplotlib (https://matplotlib.org/) -->\r\n<svg height=\"88.387969pt\" version=\"1.1\" viewBox=\"0 0 88.485 88.387969\" width=\"88.485pt\" xmlns=\"http://www.w3.org/2000/svg\" xmlns:xlink=\"http://www.w3.org/1999/xlink\">\r\n <metadata>\r\n  <rdf:RDF xmlns:cc=\"http://creativecommons.org/ns#\" xmlns:dc=\"http://purl.org/dc/elements/1.1/\" xmlns:rdf=\"http://www.w3.org/1999/02/22-rdf-syntax-ns#\">\r\n   <cc:Work>\r\n    <dc:type rdf:resource=\"http://purl.org/dc/dcmitype/StillImage\"/>\r\n    <dc:date>2021-05-05T14:19:27.373533</dc:date>\r\n    <dc:format>image/svg+xml</dc:format>\r\n    <dc:creator>\r\n     <cc:Agent>\r\n      <dc:title>Matplotlib v3.3.4, https://matplotlib.org/</dc:title>\r\n     </cc:Agent>\r\n    </dc:creator>\r\n   </cc:Work>\r\n  </rdf:RDF>\r\n </metadata>\r\n <defs>\r\n  <style type=\"text/css\">*{stroke-linecap:butt;stroke-linejoin:round;}</style>\r\n </defs>\r\n <g id=\"figure_1\">\r\n  <g id=\"patch_1\">\r\n   <path d=\"M 0 88.387969 \r\nL 88.485 88.387969 \r\nL 88.485 0 \r\nL 0 0 \r\nz\r\n\" style=\"fill:none;\"/>\r\n  </g>\r\n  <g id=\"axes_1\">\r\n   <g id=\"patch_2\">\r\n    <path d=\"M 26.925 64.509844 \r\nL 81.285 64.509844 \r\nL 81.285 10.149844 \r\nL 26.925 10.149844 \r\nz\r\n\" style=\"fill:#ffffff;\"/>\r\n   </g>\r\n   <g clip-path=\"url(#pbbdae91230)\">\r\n    <image height=\"55\" id=\"image3b88b14215\" transform=\"scale(1 -1)translate(0 -55)\" width=\"55\" x=\"26.925\" xlink:href=\"data:image/png;base64,\r\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\" y=\"-9.509844\"/>\r\n   </g>\r\n   <g id=\"matplotlib.axis_1\">\r\n    <g id=\"xtick_1\">\r\n     <g id=\"line2d_1\">\r\n      <defs>\r\n       <path d=\"M 0 0 \r\nL 0 3.5 \r\n\" id=\"m81bd99cea2\" style=\"stroke:#000000;stroke-width:0.8;\"/>\r\n      </defs>\r\n      <g>\r\n       <use style=\"stroke:#000000;stroke-width:0.8;\" x=\"27.774375\" xlink:href=\"#m81bd99cea2\" y=\"64.509844\"/>\r\n      </g>\r\n     </g>\r\n     <g id=\"text_1\">\r\n      <!-- 0 -->\r\n      <g transform=\"translate(24.593125 79.108281)scale(0.1 -0.1)\">\r\n       <defs>\r\n        <path d=\"M 31.78125 66.40625 \r\nQ 24.171875 66.40625 20.328125 58.90625 \r\nQ 16.5 51.421875 16.5 36.375 \r\nQ 16.5 21.390625 20.328125 13.890625 \r\nQ 24.171875 6.390625 31.78125 6.390625 \r\nQ 39.453125 6.390625 43.28125 13.890625 \r\nQ 47.125 21.390625 47.125 36.375 \r\nQ 47.125 51.421875 43.28125 58.90625 \r\nQ 39.453125 66.40625 31.78125 66.40625 \r\nz\r\nM 31.78125 74.21875 \r\nQ 44.046875 74.21875 50.515625 64.515625 \r\nQ 56.984375 54.828125 56.984375 36.375 \r\nQ 56.984375 17.96875 50.515625 8.265625 \r\nQ 44.046875 -1.421875 31.78125 -1.421875 \r\nQ 19.53125 -1.421875 13.0625 8.265625 \r\nQ 6.59375 17.96875 6.59375 36.375 \r\nQ 6.59375 54.828125 13.0625 64.515625 \r\nQ 19.53125 74.21875 31.78125 74.21875 \r\nz\r\n\" id=\"DejaVuSans-48\"/>\r\n       </defs>\r\n       <use xlink:href=\"#DejaVuSans-48\"/>\r\n      </g>\r\n     </g>\r\n    </g>\r\n    <g id=\"xtick_2\">\r\n     <g id=\"line2d_2\">\r\n      <g>\r\n       <use style=\"stroke:#000000;stroke-width:0.8;\" x=\"70.243125\" xlink:href=\"#m81bd99cea2\" y=\"64.509844\"/>\r\n      </g>\r\n     </g>\r\n     <g id=\"text_2\">\r\n      <!-- 25 -->\r\n      <g transform=\"translate(63.880625 79.108281)scale(0.1 -0.1)\">\r\n       <defs>\r\n        <path d=\"M 19.1875 8.296875 \r\nL 53.609375 8.296875 \r\nL 53.609375 0 \r\nL 7.328125 0 \r\nL 7.328125 8.296875 \r\nQ 12.9375 14.109375 22.625 23.890625 \r\nQ 32.328125 33.6875 34.8125 36.53125 \r\nQ 39.546875 41.84375 41.421875 45.53125 \r\nQ 43.3125 49.21875 43.3125 52.78125 \r\nQ 43.3125 58.59375 39.234375 62.25 \r\nQ 35.15625 65.921875 28.609375 65.921875 \r\nQ 23.96875 65.921875 18.8125 64.3125 \r\nQ 13.671875 62.703125 7.8125 59.421875 \r\nL 7.8125 69.390625 \r\nQ 13.765625 71.78125 18.9375 73 \r\nQ 24.125 74.21875 28.421875 74.21875 \r\nQ 39.75 74.21875 46.484375 68.546875 \r\nQ 53.21875 62.890625 53.21875 53.421875 \r\nQ 53.21875 48.921875 51.53125 44.890625 \r\nQ 49.859375 40.875 45.40625 35.40625 \r\nQ 44.1875 33.984375 37.640625 27.21875 \r\nQ 31.109375 20.453125 19.1875 8.296875 \r\nz\r\n\" id=\"DejaVuSans-50\"/>\r\n        <path d=\"M 10.796875 72.90625 \r\nL 49.515625 72.90625 \r\nL 49.515625 64.59375 \r\nL 19.828125 64.59375 \r\nL 19.828125 46.734375 \r\nQ 21.96875 47.46875 24.109375 47.828125 \r\nQ 26.265625 48.1875 28.421875 48.1875 \r\nQ 40.625 48.1875 47.75 41.5 \r\nQ 54.890625 34.8125 54.890625 23.390625 \r\nQ 54.890625 11.625 47.5625 5.09375 \r\nQ 40.234375 -1.421875 26.90625 -1.421875 \r\nQ 22.3125 -1.421875 17.546875 -0.640625 \r\nQ 12.796875 0.140625 7.71875 1.703125 \r\nL 7.71875 11.625 \r\nQ 12.109375 9.234375 16.796875 8.0625 \r\nQ 21.484375 6.890625 26.703125 6.890625 \r\nQ 35.15625 6.890625 40.078125 11.328125 \r\nQ 45.015625 15.765625 45.015625 23.390625 \r\nQ 45.015625 31 40.078125 35.4375 \r\nQ 35.15625 39.890625 26.703125 39.890625 \r\nQ 22.75 39.890625 18.8125 39.015625 \r\nQ 14.890625 38.140625 10.796875 36.28125 \r\nz\r\n\" id=\"DejaVuSans-53\"/>\r\n       </defs>\r\n       <use xlink:href=\"#DejaVuSans-50\"/>\r\n       <use x=\"63.623047\" xlink:href=\"#DejaVuSans-53\"/>\r\n      </g>\r\n     </g>\r\n    </g>\r\n   </g>\r\n   <g id=\"matplotlib.axis_2\">\r\n    <g id=\"ytick_1\">\r\n     <g id=\"line2d_3\">\r\n      <defs>\r\n       <path d=\"M 0 0 \r\nL -3.5 0 \r\n\" id=\"m72b6347b8e\" style=\"stroke:#000000;stroke-width:0.8;\"/>\r\n      </defs>\r\n      <g>\r\n       <use style=\"stroke:#000000;stroke-width:0.8;\" x=\"26.925\" xlink:href=\"#m72b6347b8e\" y=\"10.999219\"/>\r\n      </g>\r\n     </g>\r\n     <g id=\"text_3\">\r\n      <!-- 0 -->\r\n      <g transform=\"translate(13.5625 14.798437)scale(0.1 -0.1)\">\r\n       <use xlink:href=\"#DejaVuSans-48\"/>\r\n      </g>\r\n     </g>\r\n    </g>\r\n    <g id=\"ytick_2\">\r\n     <g id=\"line2d_4\">\r\n      <g>\r\n       <use style=\"stroke:#000000;stroke-width:0.8;\" x=\"26.925\" xlink:href=\"#m72b6347b8e\" y=\"44.974219\"/>\r\n      </g>\r\n     </g>\r\n     <g id=\"text_4\">\r\n      <!-- 20 -->\r\n      <g transform=\"translate(7.2 48.773438)scale(0.1 -0.1)\">\r\n       <use xlink:href=\"#DejaVuSans-50\"/>\r\n       <use x=\"63.623047\" xlink:href=\"#DejaVuSans-48\"/>\r\n      </g>\r\n     </g>\r\n    </g>\r\n   </g>\r\n   <g id=\"patch_3\">\r\n    <path d=\"M 26.925 64.509844 \r\nL 26.925 10.149844 \r\n\" style=\"fill:none;stroke:#000000;stroke-linecap:square;stroke-linejoin:miter;stroke-width:0.8;\"/>\r\n   </g>\r\n   <g id=\"patch_4\">\r\n    <path d=\"M 81.285 64.509844 \r\nL 81.285 10.149844 \r\n\" style=\"fill:none;stroke:#000000;stroke-linecap:square;stroke-linejoin:miter;stroke-width:0.8;\"/>\r\n   </g>\r\n   <g id=\"patch_5\">\r\n    <path d=\"M 26.925 64.509844 \r\nL 81.285 64.509844 \r\n\" style=\"fill:none;stroke:#000000;stroke-linecap:square;stroke-linejoin:miter;stroke-width:0.8;\"/>\r\n   </g>\r\n   <g id=\"patch_6\">\r\n    <path d=\"M 26.925 10.149844 \r\nL 81.285 10.149844 \r\n\" style=\"fill:none;stroke:#000000;stroke-linecap:square;stroke-linejoin:miter;stroke-width:0.8;\"/>\r\n   </g>\r\n  </g>\r\n </g>\r\n <defs>\r\n  <clipPath id=\"pbbdae91230\">\r\n   <rect height=\"54.36\" width=\"54.36\" x=\"26.925\" y=\"10.149844\"/>\r\n  </clipPath>\r\n </defs>\r\n</svg>\r\n",
      "image/png": "[encoded data removed]"
     },
     "metadata": {
      "needs_background": "light"
     }
    }
   ],
   "source": [
    "plot_sample(120)"
   ]
  },
  {
   "cell_type": "code",
   "execution_count": 31,
   "metadata": {},
   "outputs": [],
   "source": [
    "classes = [\"airplane\", \"automobile\",\"bird\",\"cat\",\"deer\",\"dog\",\"frog\",\"horse\",\"ship\",\"truck\"]"
   ]
  },
  {
   "cell_type": "code",
   "execution_count": 33,
   "metadata": {},
   "outputs": [],
   "source": [
    "classes[y_train[3][0]]\n",
    "x_train_scaled = x_train / 255\n",
    "x_test_scaled = x_test / 255"
   ]
  },
  {
   "cell_type": "code",
   "execution_count": 34,
   "metadata": {},
   "outputs": [
    {
     "output_type": "execute_result",
     "data": {
      "text/plain": [
       "array([[0., 0., 0., 0., 0., 0., 1., 0., 0., 0.],\n",
       "       [0., 0., 0., 0., 0., 0., 0., 0., 0., 1.],\n",
       "       [0., 0., 0., 0., 0., 0., 0., 0., 0., 1.],\n",
       "       [0., 0., 0., 0., 1., 0., 0., 0., 0., 0.],\n",
       "       [0., 1., 0., 0., 0., 0., 0., 0., 0., 0.]], dtype=float32)"
      ]
     },
     "metadata": {},
     "execution_count": 34
    }
   ],
   "source": [
    "y_train_categorical = keras.utils.to_categorical(\n",
    "    y_train,num_classes=10, dtype = 'float32'\n",
    ")\n",
    "y_train_categorical[:5]"
   ]
  },
  {
   "cell_type": "code",
   "execution_count": 35,
   "metadata": {},
   "outputs": [],
   "source": [
    "y_test_categorical = keras.utils.to_categorical(\n",
    "    y_test,num_classes=10, dtype = 'float32'\n",
    ")"
   ]
  },
  {
   "cell_type": "code",
   "execution_count": 36,
   "metadata": {},
   "outputs": [],
   "source": [
    "model =keras.Sequential([\n",
    "    keras.layers.Flatten(input_shape =(32,32,3)),\n",
    "    keras.layers.Dense(3000,activation='relu'),\n",
    "    keras.layers.Dense(3000,activation='relu'),\n",
    "    keras.layers.Dense(10,activation='sigmoid')\n",
    "])"
   ]
  },
  {
   "cell_type": "code",
   "execution_count": 37,
   "metadata": {},
   "outputs": [],
   "source": [
    "model.compile(\n",
    "    optimizer = 'SGD',\n",
    "    loss='categorical_crossentropy',\n",
    "    metrics=['accuracy']\n",
    "\n",
    ")"
   ]
  },
  {
   "cell_type": "code",
   "execution_count": 38,
   "metadata": {},
   "outputs": [
    {
     "output_type": "stream",
     "name": "stdout",
     "text": [
      "Epoch 1/50\n",
      "1563/1563 [==============================] - 23s 9ms/step - loss: 1.9270 - accuracy: 0.3054\n",
      "Epoch 2/50\n",
      "1563/1563 [==============================] - 15s 9ms/step - loss: 1.6371 - accuracy: 0.4241\n",
      "Epoch 3/50\n",
      "1563/1563 [==============================] - 15s 10ms/step - loss: 1.5591 - accuracy: 0.4509\n",
      "Epoch 4/50\n",
      "1563/1563 [==============================] - 16s 10ms/step - loss: 1.4875 - accuracy: 0.4772\n",
      "Epoch 5/50\n",
      "1563/1563 [==============================] - 15s 10ms/step - loss: 1.4340 - accuracy: 0.4997\n",
      "Epoch 6/50\n",
      "1563/1563 [==============================] - 15s 10ms/step - loss: 1.3834 - accuracy: 0.5125\n",
      "Epoch 7/50\n",
      "1563/1563 [==============================] - 16s 10ms/step - loss: 1.3469 - accuracy: 0.5303\n",
      "Epoch 8/50\n",
      "1563/1563 [==============================] - 16s 10ms/step - loss: 1.3108 - accuracy: 0.5399\n",
      "Epoch 9/50\n",
      "1563/1563 [==============================] - 16s 10ms/step - loss: 1.2732 - accuracy: 0.5548\n",
      "Epoch 10/50\n",
      "1563/1563 [==============================] - 15s 10ms/step - loss: 1.2393 - accuracy: 0.5638\n",
      "Epoch 11/50\n",
      "1563/1563 [==============================] - 17s 11ms/step - loss: 1.2068 - accuracy: 0.5809\n",
      "Epoch 12/50\n",
      "1563/1563 [==============================] - 16s 10ms/step - loss: 1.1804 - accuracy: 0.5878\n",
      "Epoch 13/50\n",
      "1563/1563 [==============================] - 15s 10ms/step - loss: 1.1560 - accuracy: 0.5949\n",
      "Epoch 14/50\n",
      "1563/1563 [==============================] - 17s 11ms/step - loss: 1.1310 - accuracy: 0.6077\n",
      "Epoch 15/50\n",
      "1563/1563 [==============================] - 19s 12ms/step - loss: 1.0957 - accuracy: 0.6214\n",
      "Epoch 16/50\n",
      "1563/1563 [==============================] - 19s 12ms/step - loss: 1.0690 - accuracy: 0.6297\n",
      "Epoch 17/50\n",
      "1563/1563 [==============================] - 19s 12ms/step - loss: 1.0315 - accuracy: 0.6433\n",
      "Epoch 18/50\n",
      "1563/1563 [==============================] - 20s 13ms/step - loss: 1.0101 - accuracy: 0.6512\n",
      "Epoch 19/50\n",
      "1563/1563 [==============================] - 20s 13ms/step - loss: 0.9836 - accuracy: 0.6618\n",
      "Epoch 20/50\n",
      "1563/1563 [==============================] - 20s 13ms/step - loss: 0.9512 - accuracy: 0.6721\n",
      "Epoch 21/50\n",
      "1563/1563 [==============================] - 19s 12ms/step - loss: 0.9248 - accuracy: 0.6825\n",
      "Epoch 22/50\n",
      "1563/1563 [==============================] - 20s 13ms/step - loss: 0.9009 - accuracy: 0.6901\n",
      "Epoch 23/50\n",
      "1563/1563 [==============================] - 21s 13ms/step - loss: 0.8766 - accuracy: 0.6994\n",
      "Epoch 24/50\n",
      "1563/1563 [==============================] - 21s 13ms/step - loss: 0.8486 - accuracy: 0.7105\n",
      "Epoch 25/50\n",
      "1563/1563 [==============================] - 21s 13ms/step - loss: 0.8252 - accuracy: 0.7167\n",
      "Epoch 26/50\n",
      "1563/1563 [==============================] - 19s 12ms/step - loss: 0.7974 - accuracy: 0.7277\n",
      "Epoch 27/50\n",
      "1563/1563 [==============================] - 18s 12ms/step - loss: 0.7752 - accuracy: 0.7354\n",
      "Epoch 28/50\n",
      "1563/1563 [==============================] - 19s 12ms/step - loss: 0.7354 - accuracy: 0.7510\n",
      "Epoch 29/50\n",
      "1563/1563 [==============================] - 18s 12ms/step - loss: 0.7242 - accuracy: 0.7555\n",
      "Epoch 30/50\n",
      "1563/1563 [==============================] - 18s 11ms/step - loss: 0.7004 - accuracy: 0.7658\n",
      "Epoch 31/50\n",
      "1563/1563 [==============================] - 20s 13ms/step - loss: 0.6705 - accuracy: 0.7750\n",
      "Epoch 32/50\n",
      "1563/1563 [==============================] - 19s 12ms/step - loss: 0.6352 - accuracy: 0.7874\n",
      "Epoch 33/50\n",
      "1563/1563 [==============================] - 22s 14ms/step - loss: 0.6043 - accuracy: 0.8017\n",
      "Epoch 34/50\n",
      "1563/1563 [==============================] - 21s 13ms/step - loss: 0.5870 - accuracy: 0.8059\n",
      "Epoch 35/50\n",
      "1563/1563 [==============================] - 19s 12ms/step - loss: 0.5592 - accuracy: 0.8164\n",
      "Epoch 36/50\n",
      "1563/1563 [==============================] - 19s 12ms/step - loss: 0.5315 - accuracy: 0.8260\n",
      "Epoch 37/50\n",
      "1563/1563 [==============================] - 19s 12ms/step - loss: 0.5060 - accuracy: 0.8379\n",
      "Epoch 38/50\n",
      "1563/1563 [==============================] - 19s 12ms/step - loss: 0.4919 - accuracy: 0.8421\n",
      "Epoch 39/50\n",
      "1563/1563 [==============================] - 20s 13ms/step - loss: 0.4652 - accuracy: 0.8516\n",
      "Epoch 40/50\n",
      "1563/1563 [==============================] - 20s 13ms/step - loss: 0.4389 - accuracy: 0.8612\n",
      "Epoch 41/50\n",
      "1563/1563 [==============================] - 25s 16ms/step - loss: 0.4153 - accuracy: 0.8727\n",
      "Epoch 42/50\n",
      "1563/1563 [==============================] - 22s 14ms/step - loss: 0.3955 - accuracy: 0.8780\n",
      "Epoch 43/50\n",
      "1563/1563 [==============================] - 20s 13ms/step - loss: 0.3736 - accuracy: 0.8873\n",
      "Epoch 44/50\n",
      "1563/1563 [==============================] - 22s 14ms/step - loss: 0.3488 - accuracy: 0.8960\n",
      "Epoch 45/50\n",
      "1563/1563 [==============================] - 19s 12ms/step - loss: 0.3354 - accuracy: 0.9005\n",
      "Epoch 46/50\n",
      "1563/1563 [==============================] - 19s 12ms/step - loss: 0.3127 - accuracy: 0.9086\n",
      "Epoch 47/50\n",
      "1563/1563 [==============================] - 21s 13ms/step - loss: 0.2922 - accuracy: 0.9144\n",
      "Epoch 48/50\n",
      "1563/1563 [==============================] - 17s 11ms/step - loss: 0.2750 - accuracy: 0.9225\n",
      "Epoch 49/50\n",
      "1563/1563 [==============================] - 17s 11ms/step - loss: 0.2600 - accuracy: 0.9272\n",
      "Epoch 50/50\n",
      "1563/1563 [==============================] - 18s 12ms/step - loss: 0.2422 - accuracy: 0.9339\n"
     ]
    },
    {
     "output_type": "execute_result",
     "data": {
      "text/plain": [
       "<tensorflow.python.keras.callbacks.History at 0x1d78e5c1fa0>"
      ]
     },
     "metadata": {},
     "execution_count": 38
    }
   ],
   "source": [
    "model.fit(x_train_scaled, y_train_categorical,epochs = 50)"
   ]
  },
  {
   "cell_type": "code",
   "execution_count": 41,
   "metadata": {},
   "outputs": [],
   "source": [
    "\n",
    "def get_model():\n",
    "    model = keras.Sequential([\n",
    "            keras.layers.Flatten(input_shape=(32,32,3)),\n",
    "            keras.layers.Dense(3000, activation='relu'),\n",
    "            keras.layers.Dense(1000, activation='relu'),\n",
    "            keras.layers.Dense(10, activation='sigmoid')    \n",
    "        ])\n",
    "\n",
    "    model.compile(optimizer='SGD',\n",
    "                  loss='categorical_crossentropy',\n",
    "                  metrics=['accuracy'])\n",
    "    return model"
   ]
  },
  {
   "cell_type": "code",
   "execution_count": 42,
   "metadata": {},
   "outputs": [
    {
     "output_type": "stream",
     "name": "stdout",
     "text": [
      "1563/1563 [==============================] - 74s 44ms/step - loss: 1.9283 - accuracy: 0.3035\n",
      "1min 15s ± 0 ns per loop (mean ± std. dev. of 1 run, 1 loop each)\n"
     ]
    }
   ],
   "source": [
    "%%timeit -n1 -r1 \n",
    "with tf.device('/CPU:0'):\n",
    "    cpu_model = get_model()\n",
    "    cpu_model.fit(x_train_scaled, y_train_categorical, epochs=1)"
   ]
  },
  {
   "cell_type": "code",
   "execution_count": 44,
   "metadata": {},
   "outputs": [
    {
     "output_type": "stream",
     "name": "stdout",
     "text": [
      "Epoch 1/5\n",
      "1563/1563 [==============================] - 11s 7ms/step - loss: 1.9334 - accuracy: 0.3004\n",
      "Epoch 2/5\n",
      "1563/1563 [==============================] - 10s 7ms/step - loss: 1.6452 - accuracy: 0.4199\n",
      "Epoch 3/5\n",
      "1563/1563 [==============================] - 11s 7ms/step - loss: 1.5488 - accuracy: 0.4544\n",
      "Epoch 4/5\n",
      "1563/1563 [==============================] - 11s 7ms/step - loss: 1.4943 - accuracy: 0.4711\n",
      "Epoch 5/5\n",
      "1563/1563 [==============================] - 11s 7ms/step - loss: 1.4358 - accuracy: 0.4958\n",
      "54.4 s ± 0 ns per loop (mean ± std. dev. of 1 run, 1 loop each)\n"
     ]
    }
   ],
   "source": [
    "%%timeit -n1 -r1 \n",
    "with tf.device('/GPU:0'):\n",
    "    cpu_model = get_model()\n",
    "    cpu_model.fit(x_train_scaled, y_train_categorical, epochs=5)"
   ]
  }
 ]
}